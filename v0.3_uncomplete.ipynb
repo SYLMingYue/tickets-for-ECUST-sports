{
 "cells": [
  {
   "cell_type": "code",
   "execution_count": 2,
   "metadata": {},
   "outputs": [
    {
     "name": "stderr",
     "output_type": "stream",
     "text": [
      "C:\\Users\\72722\\AppData\\Local\\Temp\\ipykernel_18980\\2117770257.py:16: DeprecationWarning: executable_path has been deprecated, please pass in a Service object\n",
      "  driver = webdriver.Chrome(executable_path=chromedriver_path)\n"
     ]
    }
   ],
   "source": [
    "from selenium import webdriver\n",
    "from selenium.webdriver.common.keys import Keys\n",
    "from selenium.webdriver.common.by import By\n",
    "from selenium.webdriver.support.ui import WebDriverWait\n",
    "from selenium.webdriver.support import expected_conditions as EC\n",
    "from selenium.common.exceptions import TimeoutException\n",
    "from selenium.webdriver import ActionChains\n",
    "import time\n",
    "\n",
    "# 设置浏览器选项（例如Chrome）\n",
    "options = webdriver.ChromeOptions()\n",
    "options.add_argument('--auto-open-devtools-for-tabs')\n",
    "# 设置ChromeDriver的路径(双引号内填ChromeDriver的路径)\n",
    "chromedriver_path = \"D:\\BaiduNetdiskDownload\\WebDriver\\chromedriver.exe\"\n",
    "# 初始化WebDriver\n",
    "driver = webdriver.Chrome(executable_path=chromedriver_path)\n",
    "driver = webdriver.Chrome(options=options)\n",
    "# 配置选项，使浏览器在后台运行，无界面显示\n",
    "# options.add_argument('--headless')\n",
    "# options.add_argument('--disable-gpu')"
   ]
  },
  {
   "cell_type": "code",
   "execution_count": 3,
   "metadata": {},
   "outputs": [],
   "source": [
    "# 打开目标网页\n",
    "driver.get('https://szcg.ecust.edu.cn/wx/#/ticketIndex') #此处请用你的chromedriver代替\n"
   ]
  },
  {
   "cell_type": "code",
   "execution_count": 4,
   "metadata": {},
   "outputs": [],
   "source": [
    "button_element = driver.find_element(By.LINK_TEXT, '校园统一认证')\n",
    "button_element.click()"
   ]
  },
  {
   "cell_type": "code",
   "execution_count": 5,
   "metadata": {},
   "outputs": [],
   "source": [
    "# 定位账号输入框并输入账号\n",
    "username_input = driver.find_element(By.ID, 'username')\n",
    "username_input.send_keys('username')\n",
    "\n",
    "# 定位密码输入框并输入密码\n",
    "password_input = driver.find_element(By.ID, 'password')\n",
    "password_input.send_keys('password')\n",
    "\n",
    "# 提交表单\n",
    "submit_button = driver.find_element(By.XPATH, '//*[@id=\"casLoginForm\"]/p[5]/button')\n",
    "submit_button.click()"
   ]
  },
  {
   "cell_type": "code",
   "execution_count": 6,
   "metadata": {},
   "outputs": [],
   "source": [
    "badminton_button = WebDriverWait(driver, 10).until(EC.visibility_of_element_located((By.XPATH,'//*[@id=\"app\"]/div/div[5]/div[2]/div[1]/div/ul/li[3]')))\n",
    "# button_element.click()\n",
    "# badminton_button = driver.find_element(By.XPATH,'//*[@id=\"app\"]/div/div[5]/div[2]/div[1]/div/ul/li[3]')\n",
    "badminton_button.click()\n",
    "\n",
    "# 执行快捷键操作打开开发者工具\n",
    "'''\n",
    "body = driver.find_element(By.XPATH,'/html/body')\n",
    "body.send_keys(Keys.F12)\n",
    "\n",
    "actions = ActionChains(driver)\n",
    "actions.key_down(Keys.CONTROL).perform()\n",
    "actions.key_down(Keys.SHIFT).perform()\n",
    "actions.key_down('I').perform()\n",
    "time.sleep(1)  # 延时 1 秒\n",
    "actions.key_up(Keys.F12).perform()\n",
    "'''\n",
    "xuhuibadminton_button = WebDriverWait(driver, 10).until(EC.visibility_of_element_located((By.XPATH,'//*[@id=\"app\"]/div/div[5]/div[2]/div[2]/div/div[1]/ul/li/a/div/div/p/span')))\n",
    "\n",
    "# xuhuibadminton_button = driver.find_element(By.XPATH,'//*[@id=\"app\"]/div/div[5]/div[2]/div[2]/div/div[1]/ul/li/a/div/div/p/span')\n",
    "xuhuibadminton_button.click()"
   ]
  },
  {
   "cell_type": "code",
   "execution_count": null,
   "metadata": {},
   "outputs": [],
   "source": [
    "schedule_tomorrow = WebDriverWait(driver, 10).until(EC.visibility_of_element_located((By.XPATH,'//*[@id=\"app\"]/div/div[5]/div[3]/div[2]/div/div[2]/div[2]/div[2]')))\n",
    "# schedule_tomorrow = driver.find_element(By.XPATH,'//*[@id=\"app\"]/div/div[5]/div[3]/div[2]/div/div[2]/div[2]/div[2]')\n",
    "schedule_tomorrow.click()\n",
    "\n",
    "# 等待加载后选择场地（此处为周末下午场地）\n",
    "max_attempts = 5  # 最大尝试次数\n",
    "attempts = 0  # 当前尝试次数\n",
    "\n",
    "while attempts < max_attempts:\n",
    "    try:\n",
    "        loca_button = WebDriverWait(driver, 10, 0.5).until(\n",
    "            EC.presence_of_element_located((By.XPATH, '//*[@id=\"1627910056645750787\"]'))\n",
    "        )\n",
    "        # 执行元素找到后的操作\n",
    "        loca_button.click()\n",
    "        break  # 如果成功找到元素，则跳出循环\n",
    "    except TimeoutException:\n",
    "        attempts += 1\n",
    "        print(\"元素查找超时，尝试刷新页面并重试...\")\n",
    "        driver.refresh()  # 刷新页面\n",
    "\n",
    "buy_button = driver.find_element(By.XPATH,'//*[@id=\"app\"]/div/div[5]/div[2]')\n",
    "buy_button.click()\n",
    "confirm_button = driver.find_element(By.XPATH,'//*[@id=\"app\"]/div/div[1]/div/div/div[3]/div[2]')\n",
    "confirm_button.click()\n"
   ]
  }
 ],
 "metadata": {
  "kernelspec": {
   "display_name": "Python 3",
   "language": "python",
   "name": "python3"
  },
  "language_info": {
   "codemirror_mode": {
    "name": "ipython",
    "version": 3
   },
   "file_extension": ".py",
   "mimetype": "text/x-python",
   "name": "python",
   "nbconvert_exporter": "python",
   "pygments_lexer": "ipython3",
   "version": "3.10.10"
  },
  "orig_nbformat": 4
 },
 "nbformat": 4,
 "nbformat_minor": 2
}
